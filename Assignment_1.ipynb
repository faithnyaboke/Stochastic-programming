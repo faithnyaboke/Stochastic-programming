{
  "nbformat": 4,
  "nbformat_minor": 0,
  "metadata": {
    "colab": {
      "provenance": []
    },
    "kernelspec": {
      "name": "python3",
      "display_name": "Python 3"
    },
    "language_info": {
      "name": "python"
    }
  },
  "cells": [
    {
      "cell_type": "markdown",
      "source": [
        "## Faith Nyaboke Orucho- 192745\n",
        "### Assignment 1\n"
      ],
      "metadata": {
        "id": "l2eSfEccO_eD"
      }
    },
    {
      "cell_type": "markdown",
      "source": [
        "Question 1"
      ],
      "metadata": {
        "id": "vm0KEj8jO8PT"
      }
    },
    {
      "cell_type": "code",
      "execution_count": 1,
      "metadata": {
        "id": "05IykD7eIywF"
      },
      "outputs": [],
      "source": [
        "#import libraries\n",
        "import numpy as np\n",
        "import cvxpy as cp\n",
        "import matplotlib.pyplot as plt"
      ]
    },
    {
      "cell_type": "code",
      "source": [
        "#decision variable\n",
        "x = cp.Variable()"
      ],
      "metadata": {
        "id": "xPTSVtPkJOTI"
      },
      "execution_count": 2,
      "outputs": []
    },
    {
      "cell_type": "code",
      "source": [
        "#demand scenarios\n",
        "scenarios = np.array([255,302,270,317,285,332,300,347,315,362,330,262,309,277])\n",
        "probabilities = np.array([0.03,0.15,0.04,0.1,0.05,0.05,0.09,0.01,0.09,0.03,0.2,0.07,0.05,0.04])"
      ],
      "metadata": {
        "id": "bE7LWa53JTJY"
      },
      "execution_count": 4,
      "outputs": []
    },
    {
      "cell_type": "code",
      "source": [
        "#cost function\n",
        "cost = cp.sum(cp.multiply(scenarios,probabilities))\n",
        "objective = cp.Minimize(cost)\n",
        "constraints = [x >= 120, x<=330]"
      ],
      "metadata": {
        "id": "L-JLW9c-KIEw"
      },
      "execution_count": 6,
      "outputs": []
    },
    {
      "cell_type": "code",
      "source": [
        "#solve the problem\n",
        "prob = cp.Problem(objective,constraints)\n",
        "result = prob.solve()"
      ],
      "metadata": {
        "id": "EmMbCgz4Klal"
      },
      "execution_count": 7,
      "outputs": []
    },
    {
      "cell_type": "code",
      "source": [
        "#compute the optimal supply\n",
        "optimal_supply = x.value\n",
        "print(optimal_supply)"
      ],
      "metadata": {
        "colab": {
          "base_uri": "https://localhost:8080/"
        },
        "id": "XRrTB52dKyP3",
        "outputId": "3dd2cecb-084c-4483-b94e-bdef39a73e5e"
      },
      "execution_count": 8,
      "outputs": [
        {
          "output_type": "stream",
          "name": "stdout",
          "text": [
            "225.00000000000026\n"
          ]
        }
      ]
    },
    {
      "cell_type": "code",
      "source": [
        "print(f\"Optimal supply x: {x.value}\")"
      ],
      "metadata": {
        "colab": {
          "base_uri": "https://localhost:8080/"
        },
        "id": "f7SY-trMK4e-",
        "outputId": "4ca77d2b-54aa-4ba1-e6dc-ef06f574a7f1"
      },
      "execution_count": 21,
      "outputs": [
        {
          "output_type": "stream",
          "name": "stdout",
          "text": [
            "Optimal supply x: 225.00000000000026\n"
          ]
        }
      ]
    },
    {
      "cell_type": "markdown",
      "source": [
        "The optimal supply decision is 225 units."
      ],
      "metadata": {
        "id": "VAQaNn3eLJGq"
      }
    },
    {
      "cell_type": "markdown",
      "source": [
        "## Question 2"
      ],
      "metadata": {
        "id": "8KmbX3EAM_VC"
      }
    },
    {
      "cell_type": "code",
      "source": [
        "#decision variable\n",
        "icu_beds = cp.Variable()"
      ],
      "metadata": {
        "id": "EpCavV7MLGJn"
      },
      "execution_count": 17,
      "outputs": []
    },
    {
      "cell_type": "code",
      "source": [
        "#demand scenarios\n",
        "bed_scenarios = np.array([25,20,30,50,27,39,42,29,35,42])\n",
        "bed_probabilities = np.array([0.1,0.1,0.08,0.15,0.09,0.05,0.1,0.1,0.13,0.1])\n"
      ],
      "metadata": {
        "id": "EJKM7T12NTG_"
      },
      "execution_count": 15,
      "outputs": []
    },
    {
      "cell_type": "code",
      "source": [
        "#cost function\n",
        "bed_cost = cp.sum(cp.multiply(bed_scenarios,bed_probabilities))\n",
        "objective = cp.Minimize(bed_cost)\n",
        "constraints = [icu_beds >= 17, icu_beds<=55]"
      ],
      "metadata": {
        "id": "QqoZYOBwNe-M"
      },
      "execution_count": 18,
      "outputs": []
    },
    {
      "cell_type": "code",
      "source": [
        "#solve the problem\n",
        "prob = cp.Problem(objective,constraints)\n",
        "result = prob.solve()"
      ],
      "metadata": {
        "id": "eERjWnkjN9LY"
      },
      "execution_count": 19,
      "outputs": []
    },
    {
      "cell_type": "code",
      "source": [
        "#compute the optimal number of icu beds\n",
        "optimal_beds = icu_beds.value\n",
        "print(optimal_beds)"
      ],
      "metadata": {
        "colab": {
          "base_uri": "https://localhost:8080/"
        },
        "id": "lZs3uMS5OZHZ",
        "outputId": "34fb35e6-0d6d-4656-8ebc-bf6db8af4d58"
      },
      "execution_count": 20,
      "outputs": [
        {
          "output_type": "stream",
          "name": "stdout",
          "text": [
            "36.00000000000001\n"
          ]
        }
      ]
    },
    {
      "cell_type": "code",
      "source": [
        "print(f\"Optimal number of beds: {optimal_beds}\")"
      ],
      "metadata": {
        "colab": {
          "base_uri": "https://localhost:8080/"
        },
        "id": "Ue7BdFiAOdMN",
        "outputId": "2dfc9479-642d-4bf2-ec2c-c7859f2b0d69"
      },
      "execution_count": 23,
      "outputs": [
        {
          "output_type": "stream",
          "name": "stdout",
          "text": [
            "Optimal number of beds: 36.00000000000001\n"
          ]
        }
      ]
    },
    {
      "cell_type": "markdown",
      "source": [
        "The optimal number of ICU beds allocation is 36."
      ],
      "metadata": {
        "id": "QzcnAWqpOurD"
      }
    },
    {
      "cell_type": "code",
      "source": [],
      "metadata": {
        "id": "KK3XZ40vOpme"
      },
      "execution_count": null,
      "outputs": []
    }
  ]
}